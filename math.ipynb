{
 "cells": [
  {
   "cell_type": "code",
   "execution_count": 1,
   "id": "57223509-6b5e-4079-810e-389060c044e7",
   "metadata": {},
   "outputs": [],
   "source": [
    "from sympy import *"
   ]
  },
  {
   "cell_type": "code",
   "execution_count": 2,
   "id": "3f6afe92-9ab1-4672-a4bd-dfb8aae34ad4",
   "metadata": {},
   "outputs": [],
   "source": [
    "var('A1 A2 A3 A4')\n",
    "A_cumsum = Matrix([[0, 0, 0, 0,0], \n",
    "                   [A1, 0, 0,0,0],\n",
    "                   [A2, A2-A1,0,0,0],\n",
    "                   [A3,A3-A1,A3-A2,0,0],\n",
    "                   [A4, A4-A1, A4-A2, A4-A3,0],\n",
    "                  ]).applyfunc(lambda x: exp(x) if x else 0)\n",
    "A_cumsum1 = Matrix([[0,0,0],\n",
    "                   [A1,0,0],\n",
    "                   [A2, A2-A1, 0]]).applyfunc(lambda x: exp(x) if x else 0)\n",
    "A_cumsum2 = Matrix([[0,0,0],\n",
    "                   [A3,0,0],\n",
    "                   [A4,A4-A3,0]]).applyfunc(lambda x: exp(x) if x else 0)"
   ]
  },
  {
   "cell_type": "code",
   "execution_count": 3,
   "id": "c8d6fea5-68a4-4d14-85f5-a71f940f2cf4",
   "metadata": {},
   "outputs": [
    {
     "name": "stdout",
     "output_type": "stream",
     "text": [
      "⎡ 0       0          0          0      0⎤\n",
      "⎢                                       ⎥\n",
      "⎢ A₁                                    ⎥\n",
      "⎢ℯ        0          0          0      0⎥\n",
      "⎢                                       ⎥\n",
      "⎢ A₂   -A₁ + A₂                         ⎥\n",
      "⎢ℯ    ℯ              0          0      0⎥\n",
      "⎢                                       ⎥\n",
      "⎢ A₃   -A₁ + A₃   -A₂ + A₃              ⎥\n",
      "⎢ℯ    ℯ          ℯ              0      0⎥\n",
      "⎢                                       ⎥\n",
      "⎢ A₄   -A₁ + A₄   -A₂ + A₄   -A₃ + A₄   ⎥\n",
      "⎣ℯ    ℯ          ℯ          ℯ          0⎦\n",
      "⎡ 0       0      0⎤\n",
      "⎢                 ⎥\n",
      "⎢ A₁              ⎥\n",
      "⎢ℯ        0      0⎥\n",
      "⎢                 ⎥\n",
      "⎢ A₂   -A₁ + A₂   ⎥\n",
      "⎣ℯ    ℯ          0⎦\n",
      "⎡ 0       0      0⎤\n",
      "⎢                 ⎥\n",
      "⎢ A₃              ⎥\n",
      "⎢ℯ        0      0⎥\n",
      "⎢                 ⎥\n",
      "⎢ A₄   -A₃ + A₄   ⎥\n",
      "⎣ℯ    ℯ          0⎦\n"
     ]
    }
   ],
   "source": [
    "pprint(A_cumsum)\n",
    "pprint(A_cumsum1)\n",
    "pprint(A_cumsum2)"
   ]
  },
  {
   "cell_type": "code",
   "execution_count": 6,
   "id": "facea432-3114-416f-8a93-a849ccc0d225",
   "metadata": {},
   "outputs": [],
   "source": [
    "var('hi, hw, hx, hy, hz')\n",
    "states = Matrix([0, hw, hx, hy, hz])\n",
    "states1 = Matrix([0,hw,hx])\n",
    "states2 = Matrix([0,hy,hz])\n",
    "hi = 0"
   ]
  },
  {
   "cell_type": "code",
   "execution_count": 7,
   "id": "293d9bc4-cb03-4f00-b5e2-6ccf053ffd5f",
   "metadata": {},
   "outputs": [
    {
     "name": "stdout",
     "output_type": "stream",
     "text": [
      "⎡                    0                     ⎤\n",
      "⎢                                          ⎥\n",
      "⎢                    0                     ⎥\n",
      "⎢                                          ⎥\n",
      "⎢                   -A₁ + A₂               ⎥\n",
      "⎢               hw⋅ℯ                       ⎥\n",
      "⎢                                          ⎥\n",
      "⎢           -A₁ + A₃       -A₂ + A₃        ⎥\n",
      "⎢       hw⋅ℯ         + hx⋅ℯ                ⎥\n",
      "⎢                                          ⎥\n",
      "⎢    -A₁ + A₄       -A₂ + A₄       -A₃ + A₄⎥\n",
      "⎣hw⋅ℯ         + hx⋅ℯ         + hy⋅ℯ        ⎦\n",
      "⎡     0      ⎤\n",
      "⎢            ⎥\n",
      "⎢     0      ⎥\n",
      "⎢            ⎥\n",
      "⎢    -A₁ + A₂⎥\n",
      "⎣hw⋅ℯ        ⎦\n",
      "⎡     0      ⎤\n",
      "⎢            ⎥\n",
      "⎢     0      ⎥\n",
      "⎢            ⎥\n",
      "⎢    -A₃ + A₄⎥\n",
      "⎣hy⋅ℯ        ⎦\n"
     ]
    }
   ],
   "source": [
    "pprint(A_cumsum.multiply(states))\n",
    "pprint(A_cumsum1.multiply(states1))\n",
    "pprint(A_cumsum2.multiply(states2))"
   ]
  },
  {
   "cell_type": "code",
   "execution_count": null,
   "id": "8785bf7b-f3e7-4e19-b432-e1f807fef724",
   "metadata": {},
   "outputs": [],
   "source": []
  }
 ],
 "metadata": {
  "kernelspec": {
   "display_name": "mamba",
   "language": "python",
   "name": "mamba"
  },
  "language_info": {
   "codemirror_mode": {
    "name": "ipython",
    "version": 3
   },
   "file_extension": ".py",
   "mimetype": "text/x-python",
   "name": "python",
   "nbconvert_exporter": "python",
   "pygments_lexer": "ipython3",
   "version": "3.11.9"
  }
 },
 "nbformat": 4,
 "nbformat_minor": 5
}
